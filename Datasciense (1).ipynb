{
  "metadata": {
    "kernelspec": {
      "name": "python",
      "display_name": "Python (Pyodide)",
      "language": "python"
    },
    "language_info": {
      "codemirror_mode": {
        "name": "python",
        "version": 3
      },
      "file_extension": ".py",
      "mimetype": "text/x-python",
      "name": "python",
      "nbconvert_exporter": "python",
      "pygments_lexer": "ipython3",
      "version": "3.8"
    }
  },
  "nbformat_minor": 4,
  "nbformat": 4,
  "cells": [
    {
      "cell_type": "markdown",
      "source": "Data Sciense Tools and Requirement",
      "metadata": {}
    },
    {
      "cell_type": "markdown",
      "source": "In this notebook,Data sciense toos and requirement explained",
      "metadata": {}
    },
    {
      "cell_type": "markdown",
      "source": "List of languages used in Data Sciense are:\n1. Python\n2.R\n3.SQL etc,..",
      "metadata": {}
    },
    {
      "cell_type": "markdown",
      "source": "List of Data Sciense libraraies are:\n1.Numpy\n2.Pandas\n3.Matplaotlib\n4.Scipy\n5.scikit-Learn,\nTensorflow etc,",
      "metadata": {}
    },
    {
      "cell_type": "markdown",
      "source": "|Dara Sciense Tools|\n|------------------|\n|Tensorflow|\n|Apache Spark|\n|BI Tool|\n|Tabelua|",
      "metadata": {}
    },
    {
      "cell_type": "code",
      "source": "###########Example for Arthimtic operation ##############\n",
      "metadata": {
        "trusted": true
      },
      "outputs": [],
      "execution_count": null
    },
    {
      "cell_type": "code",
      "source": "#multiply and add number\n(3*9)+7",
      "metadata": {
        "trusted": true
      },
      "outputs": [
        {
          "execution_count": 2,
          "output_type": "execute_result",
          "data": {
            "text/plain": "34"
          },
          "metadata": {}
        }
      ],
      "execution_count": 2
    },
    {
      "cell_type": "code",
      "source": "\n\n# Convert minutes to hours\ny = 300/ 60\n\n# Print the result\nprint( y)\n\n",
      "metadata": {
        "trusted": true
      },
      "outputs": [
        {
          "name": "stdout",
          "text": "5.0\n",
          "output_type": "stream"
        }
      ],
      "execution_count": 26
    },
    {
      "cell_type": "markdown",
      "source": "__List of Objectives__\n\n*List of popular languages \n\n*Listo of Libraries\n\n*List of tools\n\n*How to create markdown  in Cell\n\n*How tocomments condiftion  in cell ",
      "metadata": {}
    },
    {
      "cell_type": "markdown",
      "source": "###Author\n\nSK ",
      "metadata": {}
    },
    {
      "cell_type": "code",
      "source": "",
      "metadata": {
        "trusted": true
      },
      "outputs": [],
      "execution_count": null
    }
  ]
}